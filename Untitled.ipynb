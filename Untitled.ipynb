{
 "cells": [
  {
   "cell_type": "code",
   "execution_count": 1,
   "id": "cdf2a722",
   "metadata": {},
   "outputs": [
    {
     "name": "stdout",
     "output_type": "stream",
     "text": [
      "Requirement already satisfied: google-cloud-storage in d:\\apps\\anaconda\\lib\\site-packages (1.42.1)\n",
      "Requirement already satisfied: requests<3.0.0dev,>=2.18.0 in d:\\apps\\anaconda\\lib\\site-packages (from google-cloud-storage) (2.25.1)\n",
      "Requirement already satisfied: google-cloud-core<3.0dev,>=1.6.0 in d:\\apps\\anaconda\\lib\\site-packages (from google-cloud-storage) (2.0.0)\n",
      "Requirement already satisfied: google-resumable-media<3.0dev,>=1.3.0 in d:\\apps\\anaconda\\lib\\site-packages (from google-cloud-storage) (2.0.2)\n",
      "Requirement already satisfied: google-auth<3.0dev,>=1.25.0 in d:\\apps\\anaconda\\lib\\site-packages (from google-cloud-storage) (2.0.2)\n",
      "Requirement already satisfied: google-api-core<3.0dev,>=1.29.0 in d:\\apps\\anaconda\\lib\\site-packages (from google-cloud-storage) (2.0.1)\n",
      "Requirement already satisfied: protobuf>=3.12.0 in d:\\apps\\anaconda\\lib\\site-packages (from google-api-core<3.0dev,>=1.29.0->google-cloud-storage) (3.17.3)\n",
      "Requirement already satisfied: setuptools>=40.3.0 in d:\\apps\\anaconda\\lib\\site-packages (from google-api-core<3.0dev,>=1.29.0->google-cloud-storage) (57.4.0)\n",
      "Requirement already satisfied: googleapis-common-protos<2.0dev,>=1.6.0 in d:\\apps\\anaconda\\lib\\site-packages (from google-api-core<3.0dev,>=1.29.0->google-cloud-storage) (1.53.0)\n",
      "Requirement already satisfied: cachetools<5.0,>=2.0.0 in d:\\apps\\anaconda\\lib\\site-packages (from google-auth<3.0dev,>=1.25.0->google-cloud-storage) (4.2.2)\n",
      "Requirement already satisfied: pyasn1-modules>=0.2.1 in d:\\apps\\anaconda\\lib\\site-packages (from google-auth<3.0dev,>=1.25.0->google-cloud-storage) (0.2.8)\n",
      "Requirement already satisfied: rsa<5,>=3.1.4 in d:\\apps\\anaconda\\lib\\site-packages (from google-auth<3.0dev,>=1.25.0->google-cloud-storage) (4.7.2)\n",
      "Requirement already satisfied: google-crc32c<=1.1.2,>=1.0 in d:\\apps\\anaconda\\lib\\site-packages (from google-resumable-media<3.0dev,>=1.3.0->google-cloud-storage) (1.1.2)\n",
      "Requirement already satisfied: cffi>=1.0.0 in d:\\apps\\anaconda\\lib\\site-packages (from google-crc32c<=1.1.2,>=1.0->google-resumable-media<3.0dev,>=1.3.0->google-cloud-storage) (1.14.5)\n",
      "Requirement already satisfied: pycparser in d:\\apps\\anaconda\\lib\\site-packages (from cffi>=1.0.0->google-crc32c<=1.1.2,>=1.0->google-resumable-media<3.0dev,>=1.3.0->google-cloud-storage) (2.20)\n",
      "Requirement already satisfied: six>=1.9 in d:\\apps\\anaconda\\lib\\site-packages (from protobuf>=3.12.0->google-api-core<3.0dev,>=1.29.0->google-cloud-storage) (1.15.0)\n",
      "Requirement already satisfied: pyasn1<0.5.0,>=0.4.6 in d:\\apps\\anaconda\\lib\\site-packages (from pyasn1-modules>=0.2.1->google-auth<3.0dev,>=1.25.0->google-cloud-storage) (0.4.8)\n",
      "Requirement already satisfied: certifi>=2017.4.17 in d:\\apps\\anaconda\\lib\\site-packages (from requests<3.0.0dev,>=2.18.0->google-cloud-storage) (2020.12.5)\n",
      "Requirement already satisfied: urllib3<1.27,>=1.21.1 in d:\\apps\\anaconda\\lib\\site-packages (from requests<3.0.0dev,>=2.18.0->google-cloud-storage) (1.26.4)\n",
      "Requirement already satisfied: chardet<5,>=3.0.2 in d:\\apps\\anaconda\\lib\\site-packages (from requests<3.0.0dev,>=2.18.0->google-cloud-storage) (4.0.0)\n",
      "Requirement already satisfied: idna<3,>=2.5 in d:\\apps\\anaconda\\lib\\site-packages (from requests<3.0.0dev,>=2.18.0->google-cloud-storage) (2.10)\n"
     ]
    }
   ],
   "source": [
    "!pip install --upgrade google-cloud-storage"
   ]
  },
  {
   "cell_type": "raw",
   "id": "f6860c29",
   "metadata": {},
   "source": [
    "\n",
    "def download_blob(bucket_name, source_blob_name, destination_file_name):\n",
    "    \"\"\"Downloads a blob from the bucket.\"\"\"\n",
    "    # The ID of your GCS bucket\n",
    "    # bucket_name = \"your-bucket-name\"\n",
    "\n",
    "    # The ID of your GCS object\n",
    "    # source_blob_name = \"storage-object-name\"\n",
    "\n",
    "    # The path to which the file should be downloaded\n",
    "    # destination_file_name = \"local/path/to/file\"\n",
    "\n",
    "    storage_client = storage.Client()\n",
    "\n",
    "    bucket = storage_client.bucket(bucket_name)\n",
    "\n",
    "    # Construct a client side representation of a blob.\n",
    "    # Note `Bucket.blob` differs from `Bucket.get_blob` as it doesn't retrieve\n",
    "    # any content from Google Cloud Storage. As we don't need additional data,\n",
    "    # using `Bucket.blob` is preferred here.\n",
    "    blob = bucket.blob(source_blob_name)\n",
    "    blob.download_to_filename(destination_file_name)\n",
    "\n",
    "    print(\n",
    "        \"Downloaded storage object {} from bucket {} to local file {}.\".format(\n",
    "            source_blob_name, bucket_name, destination_file_name\n",
    "        )\n",
    "    )"
   ]
  },
  {
   "cell_type": "code",
   "execution_count": 10,
   "id": "604324b5",
   "metadata": {},
   "outputs": [
    {
     "name": "stderr",
     "output_type": "stream",
     "text": [
      "<ipython-input-10-d1b2b0e34f14>:11: DeprecationWarning: Assignment to 'Bucket.location' is deprecated, as it is only valid before the bucket is created. Instead, pass the location to `Bucket.create`.\n",
      "  bucket.location = 'US'\n"
     ]
    }
   ],
   "source": [
    "from google.cloud import storage\n",
    "import os\n",
    "os.environ['GOOGLE_APPLICATION_CREDENTIALS'] = 'neural-quarter-326015-f5af35618e19.json'\n",
    "\n",
    "storage_client = storage.Client()\n",
    "dir(storage_client)\n",
    "\n",
    "# Create a bucket\n",
    "bucket_name = \"my_area14092021\"\n",
    "bucket = storage_client.bucket(bucket_name)\n",
    "bucket.location = 'US'\n",
    "bucket = storage_client.create_bucket(bucket)"
   ]
  },
  {
   "cell_type": "code",
   "execution_count": 11,
   "id": "a0d675cf",
   "metadata": {},
   "outputs": [
    {
     "data": {
      "text/plain": [
       "{'name': 'my_area14092021',\n",
       " '_properties': {'kind': 'storage#bucket',\n",
       "  'selfLink': 'https://www.googleapis.com/storage/v1/b/my_area14092021',\n",
       "  'id': 'my_area14092021',\n",
       "  'name': 'my_area14092021',\n",
       "  'projectNumber': '1097174183869',\n",
       "  'metageneration': '1',\n",
       "  'location': 'US',\n",
       "  'storageClass': 'STANDARD',\n",
       "  'etag': 'CAE=',\n",
       "  'timeCreated': '2021-09-14T16:41:29.821Z',\n",
       "  'updated': '2021-09-14T16:41:29.821Z',\n",
       "  'iamConfiguration': {'bucketPolicyOnly': {'enabled': False},\n",
       "   'uniformBucketLevelAccess': {'enabled': False},\n",
       "   'publicAccessPrevention': 'unspecified'},\n",
       "  'locationType': 'multi-region'},\n",
       " '_changes': set(),\n",
       " '_client': <google.cloud.storage.client.Client at 0x1edc5bc9be0>,\n",
       " '_acl': <google.cloud.storage.acl.BucketACL at 0x1edc5bc95e0>,\n",
       " '_default_object_acl': <google.cloud.storage.acl.DefaultObjectACL at 0x1edc5bc9400>,\n",
       " '_label_removals': set(),\n",
       " '_user_project': None}"
      ]
     },
     "execution_count": 11,
     "metadata": {},
     "output_type": "execute_result"
    }
   ],
   "source": [
    "vars(bucket)"
   ]
  },
  {
   "cell_type": "code",
   "execution_count": 12,
   "id": "72db1968",
   "metadata": {},
   "outputs": [],
   "source": [
    "# Accessing Bucket\n",
    "my_bucket = storage_client.get_bucket('my_area14092021')\n",
    "# Upload Files\n",
    "\n",
    "\n",
    "def upload_blob(bucket_name, source_file_name, destination_blob_name):\n",
    "    \"\"\"Uploads a file to the bucket.\"\"\"\n",
    "    # The ID of your GCS bucket\n",
    "    # bucket_name = \"your-bucket-name\"\n",
    "    # The path to your file to upload\n",
    "    # source_file_name = \"local/path/to/file\"\n",
    "    # The ID of your GCS object\n",
    "    # destination_blob_name = \"storage-object-name\"\n",
    "    try:\n",
    "        storage_client = storage.Client()\n",
    "        bucket = storage_client.bucket(bucket_name)\n",
    "        blob = bucket.blob(destination_blob_name)\n",
    "\n",
    "        blob.upload_from_filename(source_file_name)\n",
    "\n",
    "        print(\n",
    "            \"File {} uploaded to {}.\".format(\n",
    "                source_file_name, destination_blob_name\n",
    "            )\n",
    "        )\n",
    "\n",
    "    except Exception as e:\n",
    "        print(e)"
   ]
  },
  {
   "cell_type": "code",
   "execution_count": 14,
   "id": "4d5a6f5a",
   "metadata": {},
   "outputs": [
    {
     "name": "stdout",
     "output_type": "stream",
     "text": [
      "File D:\\data science\\ineuron\\Check\\train.csv uploaded to titanic1.\n",
      "File D:\\data science\\ineuron\\Check\\train.csv uploaded to document/titanic1.\n"
     ]
    }
   ],
   "source": [
    "filepath = 'D:\\data science\\ineuron\\Check'\n",
    "upload_blob('my_area14092021', os.path.join(filepath,'train.csv'), 'titanic1')\n",
    "upload_blob('my_area14092021', os.path.join(filepath,'train.csv'), 'document/titanic1')"
   ]
  },
  {
   "cell_type": "code",
   "execution_count": 15,
   "id": "514929bd",
   "metadata": {},
   "outputs": [],
   "source": [
    "def download_blob(bucket_name, source_blob_name, destination_file_name):\n",
    "    \"\"\"Downloads a blob from the bucket.\"\"\"\n",
    "    # The ID of your GCS bucket\n",
    "    # bucket_name = \"your-bucket-name\"\n",
    "\n",
    "    # The ID of your GCS object\n",
    "    # source_blob_name = \"storage-object-name\"\n",
    "\n",
    "    # The path to which the file should be downloaded\n",
    "    # destination_file_name = \"local/path/to/file\"\n",
    "    try:\n",
    "        storage_client = storage.Client()\n",
    "\n",
    "        bucket = storage_client.bucket(bucket_name)\n",
    "\n",
    "        # Construct a client side representation of a blob.\n",
    "        # Note `Bucket.blob` differs from `Bucket.get_blob` as it doesn't retrieve\n",
    "        # any content from Google Cloud Storage. As we don't need additional data,\n",
    "        # using `Bucket.blob` is preferred here.\n",
    "        blob = bucket.blob(source_blob_name)\n",
    "        with open(destination_file_name, 'wb') as f:\n",
    "            storage_client.download_blob_to_file(blob,f)\n",
    "#         blob.download_to_filename(destination_file_name)\n",
    "\n",
    "        print(\n",
    "            \"Downloaded storage object {} from bucket {} to local file {}.\".format(\n",
    "                source_blob_name, bucket_name, destination_file_name\n",
    "            )\n",
    "        )\n",
    "    except Exception as e:\n",
    "        print(e)"
   ]
  },
  {
   "cell_type": "code",
   "execution_count": 17,
   "id": "a77cbcc2",
   "metadata": {},
   "outputs": [
    {
     "name": "stdout",
     "output_type": "stream",
     "text": [
      "Downloaded storage object titanic1 from bucket my_area14092021 to local file D:\\data science\\ineuron\\Check\\file1.csv.\n"
     ]
    }
   ],
   "source": [
    "download_blob(\"my_area14092021\",\"titanic1\", os.path.join(os.getcwd(), \"file1.csv\"))"
   ]
  },
  {
   "cell_type": "code",
   "execution_count": null,
   "id": "51c81988",
   "metadata": {},
   "outputs": [],
   "source": []
  }
 ],
 "metadata": {
  "kernelspec": {
   "display_name": "Python 3",
   "language": "python",
   "name": "python3"
  },
  "language_info": {
   "codemirror_mode": {
    "name": "ipython",
    "version": 3
   },
   "file_extension": ".py",
   "mimetype": "text/x-python",
   "name": "python",
   "nbconvert_exporter": "python",
   "pygments_lexer": "ipython3",
   "version": "3.8.8"
  }
 },
 "nbformat": 4,
 "nbformat_minor": 5
}
